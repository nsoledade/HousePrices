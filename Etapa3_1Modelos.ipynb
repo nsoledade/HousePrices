{
 "cells": [
  {
   "cell_type": "markdown",
   "id": "9ab1f7a6",
   "metadata": {},
   "source": [
    "# House Prices - Advanced Regression Techniques\n",
    "(Preços de casas - Técnicas Avançadas de Regressão)\n",
    "\n",
    "<img src=\"https://github.com/lucaslealx/HousePrices/blob/main/img/img1.png?raw=true\" width=800>\n",
    "\n",
    "\n",
    "- Vamos utilizar o [dataset disponível no Kaggle](https://www.kaggle.com/competitions/house-prices-advanced-regression-techniques/overview)\n",
    "    - É um dataset de **competição**\n",
    "    - Temos uma base com a **descrição de cada uma das colunas (data_description.txt)**"
   ]
  },
  {
   "cell_type": "code",
   "execution_count": 1,
   "id": "0233c934",
   "metadata": {},
   "outputs": [],
   "source": [
    "# Importando as bases\n",
    "import pandas as pd\n",
    "treino = pd.read_csv('train_3_1.csv')\n",
    "teste = pd.read_csv('test_3_1.csv')"
   ]
  },
  {
   "cell_type": "code",
   "execution_count": 2,
   "id": "3c8d95e7",
   "metadata": {},
   "outputs": [
    {
     "data": {
      "text/plain": [
       "(1460, 85)"
      ]
     },
     "execution_count": 2,
     "metadata": {},
     "output_type": "execute_result"
    }
   ],
   "source": [
    "# Verificando o formato da base\n",
    "treino.shape"
   ]
  },
  {
   "cell_type": "code",
   "execution_count": 3,
   "id": "bfd24d0c",
   "metadata": {},
   "outputs": [
    {
     "data": {
      "text/plain": [
       "int64      37\n",
       "object     35\n",
       "float64    13\n",
       "dtype: int64"
      ]
     },
     "execution_count": 3,
     "metadata": {},
     "output_type": "execute_result"
    }
   ],
   "source": [
    "# Verificando o tipo de dados nas colunas\n",
    "treino.dtypes.value_counts()"
   ]
  },
  {
   "cell_type": "markdown",
   "id": "4484d72f",
   "metadata": {},
   "source": [
    "- Precisamos garantir que não vamos ter colunas de tex|to"
   ]
  },
  {
   "cell_type": "code",
   "execution_count": 4,
   "id": "3bbab431",
   "metadata": {},
   "outputs": [
    {
     "data": {
      "text/plain": [
       "Index(['Id', 'MSSubClass', 'LotFrontage', 'LotArea', 'OverallQual',\n",
       "       'OverallCond', 'YearBuilt', 'YearRemodAdd', 'MasVnrArea', 'BsmtFinSF1',\n",
       "       'BsmtFinSF2', 'BsmtUnfSF', 'TotalBsmtSF', 'CentralAir', '1stFlrSF',\n",
       "       '2ndFlrSF', 'LowQualFinSF', 'GrLivArea', 'BsmtFullBath', 'BsmtHalfBath',\n",
       "       'FullBath', 'HalfBath', 'BedroomAbvGr', 'KitchenAbvGr', 'TotRmsAbvGrd',\n",
       "       'Fireplaces', 'GarageFinish', 'GarageCars', 'GarageQual', 'PavedDrive',\n",
       "       'WoodDeckSF', 'OpenPorchSF', 'EnclosedPorch', '3SsnPorch',\n",
       "       'ScreenPorch', 'PoolArea', 'MiscVal', 'MoSold', 'YrSold',\n",
       "       'MSZoning_C (all)', 'MSZoning_FV', 'MSZoning_RH', 'MSZoning_RL',\n",
       "       'MSZoning_RM', 'GarageType_-1', 'GarageType_Attchd',\n",
       "       'GarageType_BuiltIn', 'GarageType_Detchd',\n",
       "       'GarageType_infrequent_sklearn'],\n",
       "      dtype='object')"
      ]
     },
     "execution_count": 4,
     "metadata": {},
     "output_type": "execute_result"
    }
   ],
   "source": [
    "# Selecionando apenas as colunas numéricas\n",
    "cols_nr = treino.columns[treino.dtypes != 'object']\n",
    "cols_nr[cols_nr != 'SalePrice']"
   ]
  },
  {
   "cell_type": "code",
   "execution_count": 5,
   "id": "ba3f0cd6",
   "metadata": {},
   "outputs": [
    {
     "data": {
      "text/plain": [
       "(1460, 50)"
      ]
     },
     "execution_count": 5,
     "metadata": {},
     "output_type": "execute_result"
    }
   ],
   "source": [
    "# E criar uma nova base com esses valores\n",
    "treino = treino.loc[:,cols_nr]\n",
    "treino.shape"
   ]
  },
  {
   "cell_type": "code",
   "execution_count": 6,
   "id": "df22cf39",
   "metadata": {},
   "outputs": [
    {
     "data": {
      "text/plain": [
       "(1459, 49)"
      ]
     },
     "execution_count": 6,
     "metadata": {},
     "output_type": "execute_result"
    }
   ],
   "source": [
    "# Mantendo também apenas as colunas numéricas para a base de teste (que não possui SalePrice)\n",
    "teste = teste.loc[:,cols_nr[cols_nr != 'SalePrice']]\n",
    "teste.shape"
   ]
  },
  {
   "cell_type": "markdown",
   "id": "5a686ce6",
   "metadata": {},
   "source": [
    "## Criando nosso modelo"
   ]
  },
  {
   "cell_type": "markdown",
   "id": "ee0b769c",
   "metadata": {},
   "source": [
    "- **Vamos separar em treino e teste**\n",
    "    - https://scikit-learn.org/stable/modules/generated/sklearn.model_selection.train_test_split.html"
   ]
  },
  {
   "cell_type": "code",
   "execution_count": 7,
   "id": "7f7b8193",
   "metadata": {},
   "outputs": [],
   "source": [
    "# Selecionando X e y\n",
    "X = treino.drop('SalePrice',axis=1)\n",
    "y = treino.SalePrice"
   ]
  },
  {
   "cell_type": "code",
   "execution_count": 8,
   "id": "149956b5",
   "metadata": {},
   "outputs": [],
   "source": [
    "# Importando o train_test_split\n",
    "from sklearn.model_selection import train_test_split"
   ]
  },
  {
   "cell_type": "code",
   "execution_count": 9,
   "id": "6ec49ce2",
   "metadata": {},
   "outputs": [],
   "source": [
    "# Separando essa base em treino e teste\n",
    "X_train, X_test, y_train, y_test = train_test_split(X, y, test_size=0.33, random_state=42)"
   ]
  },
  {
   "cell_type": "markdown",
   "id": "72614e5e",
   "metadata": {},
   "source": [
    "- **O próximo passo é selecionar os algoritmos que vamos utilizar. Podemos começar com os algoritmos mais simples como:**\n",
    "    - Regressão Linear\n",
    "        - https://scikit-learn.org/stable/modules/generated/sklearn.linear_model.LinearRegression.html\n",
    "    - Árvore de Regressão\n",
    "        - https://scikit-learn.org/stable/modules/tree.html#regression\n",
    "    - KNeighborsRegressor\n",
    "        - https://scikit-learn.org/stable/modules/generated/sklearn.neighbors.KNeighborsRegressor.html#sklearn.neighbors.KNeighborsRegressor"
   ]
  },
  {
   "cell_type": "code",
   "execution_count": 10,
   "id": "50bf2902",
   "metadata": {},
   "outputs": [],
   "source": [
    "# Importando a regressão linear\n",
    "from sklearn.linear_model import LinearRegression"
   ]
  },
  {
   "cell_type": "code",
   "execution_count": 11,
   "id": "76235128",
   "metadata": {},
   "outputs": [],
   "source": [
    "# Criando o regressor e fazendo o fit com os dados de treino\n",
    "reg_rl = LinearRegression().fit(X_train, y_train)"
   ]
  },
  {
   "cell_type": "code",
   "execution_count": 12,
   "id": "581ebb2d",
   "metadata": {},
   "outputs": [],
   "source": [
    "# Fazendo a previsão pros dados de teste\n",
    "y_pred_rl = reg_rl.predict(X_test)"
   ]
  },
  {
   "cell_type": "code",
   "execution_count": 13,
   "id": "1bfbbbdf",
   "metadata": {},
   "outputs": [],
   "source": [
    "# Importando a árvore de regressão\n",
    "from sklearn import tree"
   ]
  },
  {
   "cell_type": "code",
   "execution_count": 14,
   "id": "b4bacf9b",
   "metadata": {},
   "outputs": [],
   "source": [
    "# Criando o regressor e fazendo o fit com os dados de treino\n",
    "reg_ad = tree.DecisionTreeRegressor().fit(X_train, y_train)"
   ]
  },
  {
   "cell_type": "code",
   "execution_count": 15,
   "id": "8f44b273",
   "metadata": {},
   "outputs": [],
   "source": [
    "# Fazendo a previsão\n",
    "y_pred_ad = reg_ad.predict(X_test)"
   ]
  },
  {
   "cell_type": "code",
   "execution_count": 16,
   "id": "a2286fb9",
   "metadata": {},
   "outputs": [],
   "source": [
    "# Importando o KNN\n",
    "from sklearn.neighbors import KNeighborsRegressor"
   ]
  },
  {
   "cell_type": "code",
   "execution_count": 17,
   "id": "11210713",
   "metadata": {},
   "outputs": [],
   "source": [
    "# Criando o regressor e fazendo o fit com os dados de treino\n",
    "reg_knn = KNeighborsRegressor(n_neighbors=2).fit(X_train, y_train)"
   ]
  },
  {
   "cell_type": "code",
   "execution_count": 18,
   "id": "b337d25a",
   "metadata": {},
   "outputs": [],
   "source": [
    "# Fazendo a previsão\n",
    "y_pred_knn = reg_knn.predict(X_test)"
   ]
  },
  {
   "cell_type": "markdown",
   "id": "fdd63bff",
   "metadata": {},
   "source": [
    "- **E avaliar esses dados, utilizando tanto o erro absoluto quanto o quadrático:**\n",
    "    - Erro médio absoluto\n",
    "        - https://scikit-learn.org/stable/modules/generated/sklearn.metrics.mean_absolute_error.html\n",
    "    - Erro quadrático médio\n",
    "        - https://scikit-learn.org/stable/modules/generated/sklearn.metrics.mean_squared_error.html"
   ]
  },
  {
   "cell_type": "code",
   "execution_count": 19,
   "id": "269a3bcd",
   "metadata": {},
   "outputs": [],
   "source": [
    "# Importando o erro médio absoluto\n",
    "from sklearn.metrics import mean_absolute_error"
   ]
  },
  {
   "cell_type": "code",
   "execution_count": 20,
   "id": "12eb2132",
   "metadata": {},
   "outputs": [],
   "source": [
    "# E o erro quadrático médio\n",
    "from sklearn.metrics import mean_squared_error"
   ]
  },
  {
   "cell_type": "code",
   "execution_count": 21,
   "id": "14769a7a",
   "metadata": {},
   "outputs": [
    {
     "name": "stdout",
     "output_type": "stream",
     "text": [
      "23561.23807831644\n",
      "1538700290.144543\n"
     ]
    }
   ],
   "source": [
    "# Avaliando o erro da regressão\n",
    "print(mean_absolute_error(y_test, y_pred_rl))\n",
    "print(mean_squared_error(y_test, y_pred_rl))"
   ]
  },
  {
   "cell_type": "code",
   "execution_count": 22,
   "id": "2417d97e",
   "metadata": {},
   "outputs": [
    {
     "name": "stdout",
     "output_type": "stream",
     "text": [
      "27197.406639004148\n",
      "1737933929.8298755\n"
     ]
    }
   ],
   "source": [
    "# da árvore de decisão\n",
    "print(mean_absolute_error(y_test, y_pred_ad))\n",
    "print(mean_squared_error(y_test, y_pred_ad))"
   ]
  },
  {
   "cell_type": "code",
   "execution_count": 23,
   "id": "b3159911",
   "metadata": {},
   "outputs": [
    {
     "name": "stdout",
     "output_type": "stream",
     "text": [
      "34685.060165975105\n",
      "2884773859.4107885\n"
     ]
    }
   ],
   "source": [
    "# e do knn\n",
    "print(mean_absolute_error(y_test, y_pred_knn))\n",
    "print(mean_squared_error(y_test, y_pred_knn))"
   ]
  },
  {
   "cell_type": "markdown",
   "id": "162028e9",
   "metadata": {},
   "source": [
    "- **Podemos plotar visualmente a relação do y_test com as previsões feitas**\n",
    "    - Para isso vamos utilizar o matplotlib\n",
    "        - https://matplotlib.org/"
   ]
  },
  {
   "cell_type": "code",
   "execution_count": 24,
   "id": "7e5f78f8",
   "metadata": {},
   "outputs": [],
   "source": [
    "# Importando o matplotlib\n",
    "import matplotlib.pyplot as plt"
   ]
  },
  {
   "cell_type": "code",
   "execution_count": 25,
   "id": "a6bf59eb",
   "metadata": {},
   "outputs": [
    {
     "data": {
      "image/png": "[encoded data removed]",
      "text/plain": [
       "<Figure size 1500x500 with 3 Axes>"
      ]
     },
     "metadata": {},
     "output_type": "display_data"
    }
   ],
   "source": [
    "# Criando esse gráfico\n",
    "fig, ax = plt.subplots(ncols=3,figsize=(15,5))\n",
    "\n",
    "ax[0].scatter(y_test/100000, y_pred_rl/100000)\n",
    "ax[0].plot([0,8],[0,8],'--r')\n",
    "ax[1].scatter(y_test/100000, y_pred_ad/100000)\n",
    "ax[1].plot([0,8],[0,8],'--r')\n",
    "ax[2].scatter(y_test/100000, y_pred_knn/100000)\n",
    "ax[2].plot([0,8],[0,8],'--r')\n",
    "\n",
    "ax[0].set(xlim=(0, 8),ylim=(0, 8))\n",
    "ax[0].set_xlabel('y_test (x100.000)')\n",
    "ax[0].set_ylabel('y_pred (x100.000)')\n",
    "ax[0].set_title('Regressão Linear')\n",
    "ax[1].set(xlim=(0, 8),ylim=(0, 8))\n",
    "ax[1].set_xlabel('y_test (x100.000)')\n",
    "ax[1].set_ylabel('y_pred (x100.000)')\n",
    "ax[1].set_title('Árvore de Regressão')\n",
    "ax[2].set(xlim=(0, 8),ylim=(0, 8))\n",
    "ax[2].set_xlabel('y_test (x100.000)')\n",
    "ax[2].set_ylabel('y_pred (x100.000)')\n",
    "ax[2].set_title('KNN')\n",
    "\n",
    "plt.show()"
   ]
  },
  {
   "cell_type": "markdown",
   "id": "e262938a",
   "metadata": {},
   "source": [
    "- **Vamos utilizar a Regressão Linear por ter sido o algoritmo com menor erro quadrático médio, a mesma métrica avaliada pelo Kaggle na hora de classificar os modelos**"
   ]
  },
  {
   "cell_type": "markdown",
   "id": "d855508c",
   "metadata": {},
   "source": [
    "## Fazendo a previsão para a base de teste da competição"
   ]
  },
  {
   "cell_type": "code",
   "execution_count": 26,
   "id": "83a9ca6f",
   "metadata": {},
   "outputs": [
    {
     "data": {
      "text/html": [
       "<div>\n",
       "<style scoped>\n",
       "    .dataframe tbody tr th:only-of-type {\n",
       "        vertical-align: middle;\n",
       "    }\n",
       "\n",
       "    .dataframe tbody tr th {\n",
       "        vertical-align: top;\n",
       "    }\n",
       "\n",
       "    .dataframe thead th {\n",
       "        text-align: right;\n",
       "    }\n",
       "</style>\n",
       "<table border=\"1\" class=\"dataframe\">\n",
       "  <thead>\n",
       "    <tr style=\"text-align: right;\">\n",
       "      <th></th>\n",
       "      <th>Id</th>\n",
       "      <th>MSSubClass</th>\n",
       "      <th>LotFrontage</th>\n",
       "      <th>LotArea</th>\n",
       "      <th>OverallQual</th>\n",
       "      <th>OverallCond</th>\n",
       "      <th>YearBuilt</th>\n",
       "      <th>YearRemodAdd</th>\n",
       "      <th>MasVnrArea</th>\n",
       "      <th>BsmtFinSF1</th>\n",
       "      <th>...</th>\n",
       "      <th>MSZoning_C (all)</th>\n",
       "      <th>MSZoning_FV</th>\n",
       "      <th>MSZoning_RH</th>\n",
       "      <th>MSZoning_RL</th>\n",
       "      <th>MSZoning_RM</th>\n",
       "      <th>GarageType_-1</th>\n",
       "      <th>GarageType_Attchd</th>\n",
       "      <th>GarageType_BuiltIn</th>\n",
       "      <th>GarageType_Detchd</th>\n",
       "      <th>GarageType_infrequent_sklearn</th>\n",
       "    </tr>\n",
       "  </thead>\n",
       "  <tbody>\n",
       "    <tr>\n",
       "      <th>0</th>\n",
       "      <td>1461</td>\n",
       "      <td>20</td>\n",
       "      <td>80.0</td>\n",
       "      <td>11622</td>\n",
       "      <td>5</td>\n",
       "      <td>6</td>\n",
       "      <td>1961</td>\n",
       "      <td>1961</td>\n",
       "      <td>0.0</td>\n",
       "      <td>468.0</td>\n",
       "      <td>...</td>\n",
       "      <td>0.0</td>\n",
       "      <td>0.0</td>\n",
       "      <td>1.0</td>\n",
       "      <td>0.0</td>\n",
       "      <td>0.0</td>\n",
       "      <td>0.0</td>\n",
       "      <td>1.0</td>\n",
       "      <td>0.0</td>\n",
       "      <td>0.0</td>\n",
       "      <td>0.0</td>\n",
       "    </tr>\n",
       "    <tr>\n",
       "      <th>1</th>\n",
       "      <td>1462</td>\n",
       "      <td>20</td>\n",
       "      <td>81.0</td>\n",
       "      <td>14267</td>\n",
       "      <td>6</td>\n",
       "      <td>6</td>\n",
       "      <td>1958</td>\n",
       "      <td>1958</td>\n",
       "      <td>108.0</td>\n",
       "      <td>923.0</td>\n",
       "      <td>...</td>\n",
       "      <td>0.0</td>\n",
       "      <td>0.0</td>\n",
       "      <td>0.0</td>\n",
       "      <td>1.0</td>\n",
       "      <td>0.0</td>\n",
       "      <td>0.0</td>\n",
       "      <td>1.0</td>\n",
       "      <td>0.0</td>\n",
       "      <td>0.0</td>\n",
       "      <td>0.0</td>\n",
       "    </tr>\n",
       "    <tr>\n",
       "      <th>2</th>\n",
       "      <td>1463</td>\n",
       "      <td>60</td>\n",
       "      <td>74.0</td>\n",
       "      <td>13830</td>\n",
       "      <td>5</td>\n",
       "      <td>5</td>\n",
       "      <td>1997</td>\n",
       "      <td>1998</td>\n",
       "      <td>0.0</td>\n",
       "      <td>791.0</td>\n",
       "      <td>...</td>\n",
       "      <td>0.0</td>\n",
       "      <td>0.0</td>\n",
       "      <td>0.0</td>\n",
       "      <td>1.0</td>\n",
       "      <td>0.0</td>\n",
       "      <td>0.0</td>\n",
       "      <td>1.0</td>\n",
       "      <td>0.0</td>\n",
       "      <td>0.0</td>\n",
       "      <td>0.0</td>\n",
       "    </tr>\n",
       "  </tbody>\n",
       "</table>\n",
       "<p>3 rows × 49 columns</p>\n",
       "</div>"
      ],
      "text/plain": [
       "     Id  MSSubClass  LotFrontage  LotArea  OverallQual  OverallCond  \\\n",
       "0  1461          20         80.0    11622            5            6   \n",
       "1  1462          20         81.0    14267            6            6   \n",
       "2  1463          60         74.0    13830            5            5   \n",
       "\n",
       "   YearBuilt  YearRemodAdd  MasVnrArea  BsmtFinSF1  ...  MSZoning_C (all)  \\\n",
       "0       1961          1961         0.0       468.0  ...               0.0   \n",
       "1       1958          1958       108.0       923.0  ...               0.0   \n",
       "2       1997          1998         0.0       791.0  ...               0.0   \n",
       "\n",
       "   MSZoning_FV  MSZoning_RH  MSZoning_RL  MSZoning_RM  GarageType_-1  \\\n",
       "0          0.0          1.0          0.0          0.0            0.0   \n",
       "1          0.0          0.0          1.0          0.0            0.0   \n",
       "2          0.0          0.0          1.0          0.0            0.0   \n",
       "\n",
       "   GarageType_Attchd  GarageType_BuiltIn  GarageType_Detchd  \\\n",
       "0                1.0                 0.0                0.0   \n",
       "1                1.0                 0.0                0.0   \n",
       "2                1.0                 0.0                0.0   \n",
       "\n",
       "   GarageType_infrequent_sklearn  \n",
       "0                            0.0  \n",
       "1                            0.0  \n",
       "2                            0.0  \n",
       "\n",
       "[3 rows x 49 columns]"
      ]
     },
     "execution_count": 26,
     "metadata": {},
     "output_type": "execute_result"
    }
   ],
   "source": [
    "# Visualizando a base\n",
    "teste.head(3)"
   ]
  },
  {
   "cell_type": "code",
   "execution_count": 27,
   "id": "9b09d278",
   "metadata": {},
   "outputs": [],
   "source": [
    "# Vamos usar a Regressão Linear para fazer a previsão\n",
    "y_pred = reg_rl.predict(teste)"
   ]
  },
  {
   "cell_type": "code",
   "execution_count": 28,
   "id": "511117c5",
   "metadata": {},
   "outputs": [],
   "source": [
    "# Podemos adicionar essa coluna de previsão na nossa base\n",
    "teste['SalePrice'] = y_pred"
   ]
  },
  {
   "cell_type": "code",
   "execution_count": 29,
   "id": "bc1fd647",
   "metadata": {},
   "outputs": [
    {
     "data": {
      "text/html": [
       "<div>\n",
       "<style scoped>\n",
       "    .dataframe tbody tr th:only-of-type {\n",
       "        vertical-align: middle;\n",
       "    }\n",
       "\n",
       "    .dataframe tbody tr th {\n",
       "        vertical-align: top;\n",
       "    }\n",
       "\n",
       "    .dataframe thead th {\n",
       "        text-align: right;\n",
       "    }\n",
       "</style>\n",
       "<table border=\"1\" class=\"dataframe\">\n",
       "  <thead>\n",
       "    <tr style=\"text-align: right;\">\n",
       "      <th></th>\n",
       "      <th>Id</th>\n",
       "      <th>SalePrice</th>\n",
       "    </tr>\n",
       "  </thead>\n",
       "  <tbody>\n",
       "    <tr>\n",
       "      <th>0</th>\n",
       "      <td>1461</td>\n",
       "      <td>112798.428876</td>\n",
       "    </tr>\n",
       "    <tr>\n",
       "      <th>1</th>\n",
       "      <td>1462</td>\n",
       "      <td>133374.647460</td>\n",
       "    </tr>\n",
       "    <tr>\n",
       "      <th>2</th>\n",
       "      <td>1463</td>\n",
       "      <td>165821.939500</td>\n",
       "    </tr>\n",
       "  </tbody>\n",
       "</table>\n",
       "</div>"
      ],
      "text/plain": [
       "     Id      SalePrice\n",
       "0  1461  112798.428876\n",
       "1  1462  133374.647460\n",
       "2  1463  165821.939500"
      ]
     },
     "execution_count": 29,
     "metadata": {},
     "output_type": "execute_result"
    }
   ],
   "source": [
    "# E extrair somente o Id e o SalePrice\n",
    "base_kaggle = teste[['Id','SalePrice']]\n",
    "base_kaggle.head(3)"
   ]
  },
  {
   "cell_type": "code",
   "execution_count": 30,
   "id": "9513b665",
   "metadata": {},
   "outputs": [],
   "source": [
    "# Podemos então exportar essa base\n",
    "base_kaggle.to_csv('resultado3_1.csv',index=False)"
   ]
  }
 ],
 "metadata": {
  "kernelspec": {
   "display_name": "Python 3 (ipykernel)",
   "language": "python",
   "name": "python3"
  },
  "language_info": {
   "codemirror_mode": {
    "name": "ipython",
    "version": 3
   },
   "file_extension": ".py",
   "mimetype": "text/x-python",
   "name": "python",
   "nbconvert_exporter": "python",
   "pygments_lexer": "ipython3",
   "version": "3.9.13"
  }
 },
 "nbformat": 4,
 "nbformat_minor": 5
}
